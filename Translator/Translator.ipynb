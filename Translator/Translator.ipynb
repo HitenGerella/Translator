{
  "nbformat": 4,
  "nbformat_minor": 0,
  "metadata": {
    "colab": {
      "name": "Translator.ipynb",
      "provenance": []
    },
    "kernelspec": {
      "name": "python3",
      "display_name": "Python 3"
    },
    "language_info": {
      "name": "python"
    }
  },
  "cells": [
    {
      "cell_type": "code",
      "execution_count": null,
      "metadata": {
        "colab": {
          "base_uri": "https://localhost:8080/"
        },
        "id": "uoEKKMUWopx-",
        "outputId": "116a61f9-942b-4be0-c600-d716371d56eb"
      },
      "outputs": [
        {
          "output_type": "stream",
          "name": "stdout",
          "text": [
            "Looking in indexes: https://pypi.org/simple, https://us-python.pkg.dev/colab-wheels/public/simple/\n",
            "Collecting translate\n",
            "  Downloading translate-3.6.1-py2.py3-none-any.whl (12 kB)\n",
            "Requirement already satisfied: requests in /usr/local/lib/python3.7/dist-packages (from translate) (2.23.0)\n",
            "Requirement already satisfied: lxml in /usr/local/lib/python3.7/dist-packages (from translate) (4.2.6)\n",
            "Requirement already satisfied: click in /usr/local/lib/python3.7/dist-packages (from translate) (7.1.2)\n",
            "Collecting libretranslatepy==2.1.1\n",
            "  Downloading libretranslatepy-2.1.1-py3-none-any.whl (3.2 kB)\n",
            "Requirement already satisfied: certifi>=2017.4.17 in /usr/local/lib/python3.7/dist-packages (from requests->translate) (2022.6.15)\n",
            "Requirement already satisfied: idna<3,>=2.5 in /usr/local/lib/python3.7/dist-packages (from requests->translate) (2.10)\n",
            "Requirement already satisfied: urllib3!=1.25.0,!=1.25.1,<1.26,>=1.21.1 in /usr/local/lib/python3.7/dist-packages (from requests->translate) (1.24.3)\n",
            "Requirement already satisfied: chardet<4,>=3.0.2 in /usr/local/lib/python3.7/dist-packages (from requests->translate) (3.0.4)\n",
            "Installing collected packages: libretranslatepy, translate\n",
            "Successfully installed libretranslatepy-2.1.1 translate-3.6.1\n"
          ]
        }
      ],
      "source": [
        "pip install translate"
      ]
    },
    {
      "cell_type": "code",
      "source": [
        "from translate import Translator\n",
        "print(\"Enter from which language you have to translate\")\n",
        "print(\"Enter language you have to translate to\")\n",
        "\n",
        "translator = Translator(from_lang = 'English', to_lang = 'German')\n",
        "print(\"Currently the program will convert from English----->Spanish\\n\\n\")\n",
        "c = input(\"Enter the text to translate\\n\\n\")\n",
        "\n",
        "result = translator.translate(c)\n",
        "\n",
        "\n",
        "print(\"The translated text is \"+result)"
      ],
      "metadata": {
        "colab": {
          "base_uri": "https://localhost:8080/"
        },
        "id": "X5wNtYQavduF",
        "outputId": "c76a2f40-3b98-450a-8475-313406ad1a76"
      },
      "execution_count": 5,
      "outputs": [
        {
          "output_type": "stream",
          "name": "stdout",
          "text": [
            "Enter from which language you have to translate\n",
            "Enter language you have to translate to\n",
            "Currently the program will convert from English----->Spanish\n",
            "\n",
            "\n",
            "Enter the text to translate\n",
            "\n",
            "Hello\n",
            "The translated text is Hallo\n"
          ]
        }
      ]
    }
  ]
}